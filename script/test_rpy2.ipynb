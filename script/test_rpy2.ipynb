{
 "cells": [
  {
   "cell_type": "code",
   "execution_count": null,
   "metadata": {},
   "outputs": [],
   "source": [
    "import rpy2.robjects as ro\n",
    "from rpy2.robjects.packages import importr\n",
    "from rpy2.robjects import pandas2ri\n",
    "\n",
    "from rpy2.robjects.packages import importr\n",
    "from rpy2.robjects import r, pandas2ri\n",
    "\n",
    "base = importr('base') \n",
    "stats = importr('stats')\n",
    "graphics = importr('graphics')\n",
    "utils = importr('utils')\n",
    "ade4 = importr('ade4')\n",
    "\n",
    "from rpy2.robjects.conversion import localconverter\n",
    "\n",
    "import rpy2.ipython.html\n",
    "rpy2.ipython.html.init_printing()"
   ]
  },
  {
   "cell_type": "code",
   "execution_count": null,
   "metadata": {},
   "outputs": [],
   "source": [
    "from rpy2.robjects.packages import importr\n",
    "utils = importr('utils')\n",
    "\n",
    "dataf = utils.read_csv('https://raw.githubusercontent.com/jakevdp/PythonDataScienceHandbook/'\n",
    "                       'master/notebooks/data/california_cities.csv')"
   ]
  },
  {
   "cell_type": "code",
   "execution_count": null,
   "metadata": {},
   "outputs": [],
   "source": [
    "%load_ext rpy2.ipython"
   ]
  },
  {
   "cell_type": "code",
   "execution_count": null,
   "metadata": {},
   "outputs": [],
   "source": [
    "%%R -i dataf\n",
    "\n",
    "require(tidyverse)\n",
    "require(dplyr)\n",
    "glimpse(dataf)"
   ]
  },
  {
   "cell_type": "code",
   "execution_count": null,
   "metadata": {},
   "outputs": [],
   "source": [
    "%%R -w 800 --type=cairo\n",
    "\n",
    "cat(\"Running an R code cell.\\n\")\n",
    "\n",
    "p <- ggplot(dataf) +\n",
    "     aes(x=longd,\n",
    "         y=latd,\n",
    "         color=population_total,\n",
    "         size=area_total_km2) +\n",
    "     geom_point(alpha=0.5) +\n",
    "     scale_x_continuous('Longitude') +\n",
    "     scale_y_continuous('Latitude') +\n",
    "     scale_size(range=c(1, 18)) +\n",
    "     scale_color_continuous(trans='log10') +\n",
    "     ggtitle('California Cities: Area and Population') +\n",
    "     theme_light(base_size=16)\n",
    "print(p)"
   ]
  }
 ],
 "metadata": {
  "kernelspec": {
   "display_name": "Python 3",
   "language": "python",
   "name": "python3"
  },
  "language_info": {
   "codemirror_mode": {
    "name": "ipython",
    "version": 3
   },
   "file_extension": ".py",
   "mimetype": "text/x-python",
   "name": "python",
   "nbconvert_exporter": "python",
   "pygments_lexer": "ipython3",
   "version": "3.8.3"
  }
 },
 "nbformat": 4,
 "nbformat_minor": 4
}
